{
 "cells": [
  {
   "cell_type": "markdown",
   "id": "d3df79dd",
   "metadata": {},
   "source": [
    "## Упражнения по библиотеке Numpy"
   ]
  },
  {
   "cell_type": "code",
   "execution_count": 1,
   "id": "76b9c43b",
   "metadata": {},
   "outputs": [],
   "source": [
    "import numpy as np"
   ]
  },
  {
   "cell_type": "markdown",
   "id": "03727b7c",
   "metadata": {},
   "source": [
    "**1.** Дан случайный массив, поменять знак у элементов, значения которых между 3 и 8"
   ]
  },
  {
   "cell_type": "code",
   "execution_count": 2,
   "id": "b89a7523",
   "metadata": {},
   "outputs": [
    {
     "name": "stdout",
     "output_type": "stream",
     "text": [
      "Исходный массив [0 1 2 3 4 5 6 7 8 9]\n",
      "Итоговый массив [ 0  1  2  3 -4 -5 -6 -7  8  9]\n"
     ]
    }
   ],
   "source": [
    "arr = np.arange(10)\n",
    "index = np.where((arr > 3) & (arr < 8))\n",
    "print('Исходный массив', arr)\n",
    "arr[index] = -arr[index]\n",
    "print('Итоговый массив', arr)"
   ]
  },
  {
   "cell_type": "markdown",
   "id": "5fa4abda",
   "metadata": {},
   "source": [
    "**2.** Заменить максимальный элемент случайного массива на 0"
   ]
  },
  {
   "cell_type": "code",
   "execution_count": 3,
   "id": "f2788a6e",
   "metadata": {},
   "outputs": [
    {
     "name": "stdout",
     "output_type": "stream",
     "text": [
      "Исходный массив [20 33 95 64 32  4 38 71 81 59 75 82 69 18  1]\n",
      "Итоговый маассив [20 33  0 64 32  4 38 71 81 59 75 82 69 18  1]\n"
     ]
    }
   ],
   "source": [
    "arr = np.random.randint(1, 100, 15)\n",
    "print(\"Исходный массив\", arr)\n",
    "max_arr_elem = arr.max()\n",
    "index = arr == max_arr_elem\n",
    "arr[index] = 0\n",
    "print('Итоговый маассив', arr)"
   ]
  },
  {
   "cell_type": "markdown",
   "id": "3cac656b",
   "metadata": {},
   "source": [
    "**3.** Построить прямое произведение массивов (все комбинации с каждым элементом). На вход подается двумерный массив"
   ]
  },
  {
   "cell_type": "code",
   "execution_count": 4,
   "id": "3396b764",
   "metadata": {},
   "outputs": [
    {
     "name": "stdout",
     "output_type": "stream",
     "text": [
      "Прямое произведение векторов двумерного массива\n",
      "[[1 4 7]\n",
      " [1 4 8]\n",
      " [1 4 9]\n",
      " [1 5 7]\n",
      " [1 5 8]\n",
      " [1 5 9]\n",
      " [1 6 7]\n",
      " [1 6 8]\n",
      " [1 6 9]\n",
      " [2 4 7]\n",
      " [2 4 8]\n",
      " [2 4 9]\n",
      " [2 5 7]\n",
      " [2 5 8]\n",
      " [2 5 9]\n",
      " [2 6 7]\n",
      " [2 6 8]\n",
      " [2 6 9]\n",
      " [3 4 7]\n",
      " [3 4 8]\n",
      " [3 4 9]\n",
      " [3 5 7]\n",
      " [3 5 8]\n",
      " [3 5 9]\n",
      " [3 6 7]\n",
      " [3 6 8]\n",
      " [3 6 9]]\n"
     ]
    }
   ],
   "source": [
    "# с использование стандартной библиотеки itertools\n",
    "from itertools import product\n",
    "arr = np.array([[1, 2, 3], [4, 5, 6], [7, 8, 9]])\n",
    "result = np.array(list(product(*arr)))\n",
    "print('Прямое произведение векторов двумерного массива', result, sep='\\n')"
   ]
  },
  {
   "cell_type": "code",
   "execution_count": 5,
   "id": "962a6ce6",
   "metadata": {},
   "outputs": [
    {
     "name": "stdout",
     "output_type": "stream",
     "text": [
      "Прямое произведение векторов двумерного массива\n",
      "[[1 4 7]\n",
      " [1 4 8]\n",
      " [1 4 9]\n",
      " [1 5 7]\n",
      " [1 5 8]\n",
      " [1 5 9]\n",
      " [1 6 7]\n",
      " [1 6 8]\n",
      " [1 6 9]\n",
      " [2 4 7]\n",
      " [2 4 8]\n",
      " [2 4 9]\n",
      " [2 5 7]\n",
      " [2 5 8]\n",
      " [2 5 9]\n",
      " [2 6 7]\n",
      " [2 6 8]\n",
      " [2 6 9]\n",
      " [3 4 7]\n",
      " [3 4 8]\n",
      " [3 4 9]\n",
      " [3 5 7]\n",
      " [3 5 8]\n",
      " [3 5 9]\n",
      " [3 6 7]\n",
      " [3 6 8]\n",
      " [3 6 9]]\n"
     ]
    }
   ],
   "source": [
    "# с использованием построения сетки координат методом NumPy meshgrid\n",
    "arr = np.array([[1, 2, 3], [4, 5, 6], [7, 8, 9]])\n",
    "coords = np.meshgrid(*arr, indexing='ij')\n",
    "# используем вертикальное объединение массивов vstack(), и преобразуем многомерные в одномерные ravel()\n",
    "result = np.vstack([matr.ravel() for matr in coords]).T # в конце транспонирование чтобы отразить по диагонали\n",
    "print('Прямое произведение векторов двумерного массива', result, sep='\\n')"
   ]
  },
  {
   "cell_type": "markdown",
   "id": "674c9354",
   "metadata": {},
   "source": [
    "**4.** Даны 2 массива A (8x3) и B (2x2). Найти строки в A, которые содержат элементы из каждой строки в B, независимо от порядка элементов в B"
   ]
  },
  {
   "cell_type": "code",
   "execution_count": 8,
   "id": "cb664782",
   "metadata": {},
   "outputs": [
    {
     "name": "stdout",
     "output_type": "stream",
     "text": [
      "[[2 5 4]\n",
      " [5 6 3]\n",
      " [3 2 4]\n",
      " [3 0 1]\n",
      " [4 2 6]\n",
      " [6 0 1]\n",
      " [5 1 1]\n",
      " [4 4 6]]\n",
      "[[0 1]\n",
      " [5 6]]\n",
      "\n",
      "Результат:\n",
      "[[5 6 3]\n",
      " [3 0 1]\n",
      " [6 0 1]]\n"
     ]
    }
   ],
   "source": [
    "A = np.random.randint(7, size=(8, 3))\n",
    "B = np.random.randint(7, size=(2, 2))\n",
    "print(A, B, sep='\\n', end='\\n\\n')\n",
    "\n",
    "result = []\n",
    "for i in np.arange(len(A)):\n",
    "    for row in B:\n",
    "        if np.isin(row, A[i]).all():\n",
    "            result.append(A[i])\n",
    "            \n",
    "result = np.array(result)\n",
    "print('Результат:', result, sep='\\n')"
   ]
  },
  {
   "cell_type": "markdown",
   "id": "fa46533b",
   "metadata": {},
   "source": [
    "**5.** Дана 10x3 матрица, найти строки из неравных значений (например строка [2,2,3] остается, строка [3,3,3] удаляется)"
   ]
  },
  {
   "cell_type": "code",
   "execution_count": 11,
   "id": "fa545b23",
   "metadata": {},
   "outputs": [
    {
     "name": "stdout",
     "output_type": "stream",
     "text": [
      "[[1 1 0]\n",
      " [0 0 0]\n",
      " [1 0 1]\n",
      " [0 0 0]\n",
      " [0 0 0]\n",
      " [1 1 1]\n",
      " [0 1 1]\n",
      " [0 0 1]\n",
      " [0 1 1]\n",
      " [1 0 0]]\n",
      "Результат:\n",
      "[[1 1 0]\n",
      " [1 0 1]\n",
      " [0 1 1]\n",
      " [0 0 1]\n",
      " [0 1 1]\n",
      " [1 0 0]]\n"
     ]
    }
   ],
   "source": [
    "arr = np.random.randint(2, size=(10, 3))\n",
    "print(arr)\n",
    "\n",
    "result = []\n",
    "for row in arr:\n",
    "    if len(np.unique(row)) > 1:\n",
    "        result.append(row)\n",
    "result = np.array(result)\n",
    "\n",
    "print('Результат:', result, sep='\\n')"
   ]
  },
  {
   "cell_type": "markdown",
   "id": "28f0d116",
   "metadata": {},
   "source": [
    "**6.** Дан двумерный массив. Удалить те строки, которые повторяются"
   ]
  },
  {
   "cell_type": "code",
   "execution_count": 12,
   "id": "83d2c0b7",
   "metadata": {},
   "outputs": [
    {
     "name": "stdout",
     "output_type": "stream",
     "text": [
      "[[1 2]\n",
      " [1 2]\n",
      " [0 2]\n",
      " [2 0]\n",
      " [0 0]\n",
      " [0 2]\n",
      " [2 1]\n",
      " [1 1]\n",
      " [2 0]\n",
      " [0 1]]\n",
      "Результат:\n",
      "[[0 0]\n",
      " [0 1]\n",
      " [0 2]\n",
      " [1 1]\n",
      " [1 2]\n",
      " [2 0]\n",
      " [2 1]]\n"
     ]
    }
   ],
   "source": [
    "arr = np.random.randint(3, size=(10, 2))\n",
    "print(arr)\n",
    "print('Результат:', np.unique(arr, axis=0), sep='\\n')"
   ]
  },
  {
   "cell_type": "markdown",
   "id": "6daa9e37",
   "metadata": {},
   "source": [
    "______\n",
    "______"
   ]
  },
  {
   "cell_type": "markdown",
   "id": "cfbfcaff",
   "metadata": {},
   "source": [
    "Для каждой из следующих задач (1-5) нужно привести 2 реализации – одна без использования numpy (cчитайте, что там, где на входе или выходе должны быть numpy array, будут просто списки), а вторая полностью векторизованная с использованием numpy (без использования питоновских циклов/map/list comprehension).\n",
    "\n",
    "\n",
    "__Замечание 1.__ Можно считать, что все указанные объекты непустые (к примеру, в __задаче 1__ на диагонали матрицы есть ненулевые элементы).\n",
    "\n",
    "__Замечание 2.__ Для большинства задач решение занимает не больше 1-2 строк."
   ]
  },
  {
   "cell_type": "markdown",
   "id": "673cac7f",
   "metadata": {},
   "source": [
    "___"
   ]
  },
  {
   "cell_type": "markdown",
   "id": "ca6f585e",
   "metadata": {},
   "source": [
    "* __Задача 1__: Подсчитать произведение ненулевых элементов на диагонали прямоугольной матрицы.  \n",
    " Например, для X = np.array([[1, 0, 1], [2, 0, 2], [3, 0, 3], [4, 4, 4]]) ответ 3."
   ]
  },
  {
   "cell_type": "code",
   "execution_count": 13,
   "id": "065862fc",
   "metadata": {},
   "outputs": [
    {
     "name": "stdout",
     "output_type": "stream",
     "text": [
      "3\n"
     ]
    }
   ],
   "source": [
    "# Python\n",
    "X = [[1, 0, 1], [2, 0, 2], [3, 0, 3], [4, 4, 4]]\n",
    "result = 1\n",
    "for x in range(len(X[0])):\n",
    "    if X[x][x] != 0:\n",
    "        result *= X[x][x]\n",
    "print(result)"
   ]
  },
  {
   "cell_type": "code",
   "execution_count": 14,
   "id": "5b8cadd6",
   "metadata": {},
   "outputs": [
    {
     "name": "stdout",
     "output_type": "stream",
     "text": [
      "3\n"
     ]
    }
   ],
   "source": [
    "# NumPy\n",
    "X = np.array([[1, 0, 1], [2, 0, 2], [3, 0, 3], [4, 4, 4]])\n",
    "diagonal = np.diag(X)\n",
    "result = np.prod(diagonal[diagonal != 0])\n",
    "print(result)"
   ]
  },
  {
   "cell_type": "markdown",
   "id": "9fc51d41",
   "metadata": {},
   "source": [
    "* __Задача 2__: Даны два вектора x и y. Проверить, задают ли они одно и то же мультимножество.  \n",
    "  Например, для x = np.array([1, 2, 2, 4]), y = np.array([4, 2, 1, 2]) ответ True."
   ]
  },
  {
   "cell_type": "code",
   "execution_count": 15,
   "id": "a809e02f",
   "metadata": {},
   "outputs": [
    {
     "data": {
      "text/plain": [
       "True"
      ]
     },
     "execution_count": 15,
     "metadata": {},
     "output_type": "execute_result"
    }
   ],
   "source": [
    "# Python\n",
    "x = [1, 2, 2, 4]\n",
    "y = [4, 2, 1, 2]\n",
    "from collections import Counter\n",
    "result = Counter(x) == Counter(y)\n",
    "result"
   ]
  },
  {
   "cell_type": "code",
   "execution_count": 16,
   "id": "9b4bc4e0",
   "metadata": {},
   "outputs": [
    {
     "data": {
      "text/plain": [
       "True"
      ]
     },
     "execution_count": 16,
     "metadata": {},
     "output_type": "execute_result"
    }
   ],
   "source": [
    "# Numpy\n",
    "x = np.array([1, 2, 2, 4])\n",
    "y = np.array([4, 2, 1, 2])\n",
    "\n",
    "un_x, count_x = np.unique(x, return_counts=True)\n",
    "un_y, count_y = np.unique(y, return_counts=True)\n",
    "\n",
    "np.array_equal(un_x, un_y) and np.array_equal(count_x, count_y)"
   ]
  },
  {
   "cell_type": "markdown",
   "id": "b9c185c7",
   "metadata": {},
   "source": [
    "* __Задача 3__: Найти максимальный элемент в векторе x среди элементов, перед которыми стоит ноль. \n",
    " Например, для x = np.array([6, 2, 0, 3, 0, 0, 5, 7, 0]) ответ 5."
   ]
  },
  {
   "cell_type": "code",
   "execution_count": 17,
   "id": "b57df008",
   "metadata": {},
   "outputs": [
    {
     "data": {
      "text/plain": [
       "5"
      ]
     },
     "execution_count": 17,
     "metadata": {},
     "output_type": "execute_result"
    }
   ],
   "source": [
    "# Python\n",
    "x = [6, 2, 0, 3, 0, 0, 5, 7, 0]\n",
    "\n",
    "elems_aft_0 = [x[i + 1] for i, value in enumerate(x[:-1]) if value == 0]\n",
    "\n",
    "max(elems_aft_0)"
   ]
  },
  {
   "cell_type": "code",
   "execution_count": 18,
   "id": "c448f554",
   "metadata": {},
   "outputs": [
    {
     "data": {
      "text/plain": [
       "5"
      ]
     },
     "execution_count": 18,
     "metadata": {},
     "output_type": "execute_result"
    }
   ],
   "source": [
    "# NumPy\n",
    "x = np.array([6, 2, 0, 3, 0, 0, 5, 7, 0])\n",
    "\n",
    "mask = x == 0\n",
    "\n",
    "np.max(x[1:][mask[:-1]])"
   ]
  },
  {
   "cell_type": "markdown",
   "id": "480be4ce",
   "metadata": {},
   "source": [
    "* __Задача 4__: Реализовать кодирование длин серий (Run-length encoding). Для некоторого вектора x необходимо вернуть кортеж из двух векторов одинаковой длины. Первый содержит числа, а второй - сколько раз их нужно повторить.  \n",
    " Например, для x = np.array([2, 2, 2, 3, 3, 3, 5]) ответ (np.array([2, 3, 5]), np.array([3, 3, 1]))."
   ]
  },
  {
   "cell_type": "code",
   "execution_count": 19,
   "id": "3c592124",
   "metadata": {},
   "outputs": [
    {
     "name": "stdout",
     "output_type": "stream",
     "text": [
      "[2, 3, 5] [3, 3, 1]\n"
     ]
    }
   ],
   "source": [
    "# Python\n",
    "x = [2, 2, 2, 3, 3, 3, 5]\n",
    "\n",
    "values = []\n",
    "counts = []\n",
    "curent_value = x[0]\n",
    "counter = 1\n",
    "\n",
    "for elem in x[1:]:\n",
    "    if elem == curent_value:\n",
    "        counter += 1\n",
    "    else:\n",
    "        values.append(curent_value)\n",
    "        counts.append(counter)\n",
    "        curent_value = elem\n",
    "        counter = 1\n",
    "        \n",
    "values.append(curent_value)\n",
    "counts.append(counter)\n",
    "\n",
    "print(values, counts)"
   ]
  },
  {
   "cell_type": "code",
   "execution_count": 20,
   "id": "3efadaa3",
   "metadata": {},
   "outputs": [
    {
     "name": "stdout",
     "output_type": "stream",
     "text": [
      "[2 3 5] [3 3 1]\n"
     ]
    }
   ],
   "source": [
    "# NumPy\n",
    "x = np.array([2, 2, 2, 3, 3, 3, 5])\n",
    "\n",
    "index_where_change = np.where(x[:-1] != x[1:])[0] + 1\n",
    "# add first and last index\n",
    "index_where_change = np.insert(index_where_change, [0, len(index_where_change)], [0, x.size])\n",
    "\n",
    "print(x[index_where_change[:-1]], np.diff(index_where_change))"
   ]
  },
  {
   "cell_type": "markdown",
   "id": "077532ec",
   "metadata": {},
   "source": [
    "* __Задача 5__: Даны две выборки объектов - X и Y. Вычислить матрицу евклидовых расстояний между объектами. Сравните с функцией scipy.spatial.distance.cdist по скорости работы."
   ]
  },
  {
   "cell_type": "code",
   "execution_count": 3,
   "id": "1e807797",
   "metadata": {},
   "outputs": [
    {
     "name": "stdout",
     "output_type": "stream",
     "text": [
      "435 µs ± 1.51 µs per loop (mean ± std. dev. of 7 runs, 1,000 loops each)\n"
     ]
    }
   ],
   "source": [
    "# Python\n",
    "import random\n",
    "import math\n",
    "# Создадим 2 выборки\n",
    "def random_points(n, d):\n",
    "    return [[random.random() for _ in range(d)] for _ in range(n)]\n",
    "\n",
    "X = random_points(100, 3)\n",
    "Y = random_points(50, 3)\n",
    "\n",
    "def euclidean_distance(X, Y):\n",
    "    distances = [[0] * len(Y) for _ in range(len(X))]\n",
    "    for i, x in enumerate(X):\n",
    "        for j, y in enumerate(Y):\n",
    "            distances[i][j] = math.dist(x, y)\n",
    "    return distances\n",
    "\n",
    "%timeit euclidean_distance(X, Y)"
   ]
  },
  {
   "cell_type": "code",
   "execution_count": 4,
   "id": "12bd56ed",
   "metadata": {},
   "outputs": [
    {
     "name": "stdout",
     "output_type": "stream",
     "text": [
      "134 µs ± 162 ns per loop (mean ± std. dev. of 7 runs, 10,000 loops each)\n"
     ]
    }
   ],
   "source": [
    "# NumPy\n",
    "\n",
    "def euclidean_distance_numpy(X, Y):\n",
    "    X = np.array(X)\n",
    "    Y = np.array(Y)\n",
    "    return np.sqrt(np.sum((X[:, np.newaxis, :] - Y[np.newaxis, :, :]) ** 2, axis=-1))\n",
    "\n",
    "%timeit euclidean_distance_numpy(X, Y)"
   ]
  },
  {
   "cell_type": "code",
   "execution_count": 5,
   "id": "7967a733",
   "metadata": {},
   "outputs": [
    {
     "name": "stdout",
     "output_type": "stream",
     "text": [
      "35.1 µs ± 95.4 ns per loop (mean ± std. dev. of 7 runs, 10,000 loops each)\n"
     ]
    }
   ],
   "source": [
    "# SciPy\n",
    "\n",
    "from scipy.spatial.distance import cdist\n",
    "\n",
    "%timeit cdist(X, Y)"
   ]
  },
  {
   "cell_type": "markdown",
   "id": "973e8064",
   "metadata": {},
   "source": [
    "_______\n",
    "________"
   ]
  },
  {
   "cell_type": "markdown",
   "id": "1104acb7",
   "metadata": {},
   "source": [
    "* #### __Задача 6__: CrunchieMunchies __*__\n",
    "\n",
    "Вы работаете в отделе маркетинга пищевой компании MyCrunch, которая разрабатывает новый вид вкусных, полезных злаков под названием **CrunchieMunchies**.\n",
    "\n",
    "Вы хотите продемонстрировать потребителям, насколько полезны ваши хлопья по сравнению с другими ведущими брендами, поэтому вы собрали данные о питании нескольких разных конкурентов.\n",
    "\n",
    "Ваша задача - использовать вычисления Numpy для анализа этих данных и доказать, что ваши **СrunchieMunchies** - самый здоровый выбор для потребителей.\n"
   ]
  },
  {
   "cell_type": "code",
   "execution_count": 6,
   "id": "10a77f8d",
   "metadata": {},
   "outputs": [],
   "source": [
    "import numpy as np"
   ]
  },
  {
   "cell_type": "markdown",
   "id": "ab87cb03",
   "metadata": {},
   "source": [
    "1. Просмотрите файл cereal.csv. Этот файл содержит количества калорий для различных марок хлопьев. Загрузите данные из файла и сохраните их как calorie_stats."
   ]
  },
  {
   "cell_type": "code",
   "execution_count": 7,
   "id": "9681ebf2",
   "metadata": {},
   "outputs": [
    {
     "data": {
      "text/plain": [
       "array([ 70., 120.,  70.,  50., 110., 110., 110., 130.,  90.,  90., 120.,\n",
       "       110., 120., 110., 110., 110., 100., 110., 110., 110., 100., 110.,\n",
       "       100., 100., 110., 110., 100., 120., 120., 110., 100., 110., 100.,\n",
       "       110., 120., 120., 110., 110., 110., 140., 110., 100., 110., 100.,\n",
       "       150., 150., 160., 100., 120., 140.,  90., 130., 120., 100.,  50.,\n",
       "        50., 100., 100., 120., 100.,  90., 110., 110.,  80.,  90.,  90.,\n",
       "       110., 110.,  90., 110., 140., 100., 110., 110., 100., 100., 110.])"
      ]
     },
     "execution_count": 7,
     "metadata": {},
     "output_type": "execute_result"
    }
   ],
   "source": [
    "calorie_stats = np.loadtxt(\"./data/cereal.csv\", delimiter=\",\")\n",
    "calorie_stats"
   ]
  },
  {
   "cell_type": "markdown",
   "id": "139cfbd8",
   "metadata": {},
   "source": [
    "2. В одной порции CrunchieMunchies содержится 60 калорий. Насколько выше среднее количество калорий у ваших конкурентов?\n",
    "\n",
    "Сохраните ответ в переменной average_calories и распечатайте переменную в терминале"
   ]
  },
  {
   "cell_type": "code",
   "execution_count": 13,
   "id": "7036d240",
   "metadata": {},
   "outputs": [
    {
     "name": "stdout",
     "output_type": "stream",
     "text": [
      "Разница: 46.883116883116884\n",
      "Среднее количество у конкурентов: 106.88311688311688\n"
     ]
    }
   ],
   "source": [
    "average_calories = np.mean(calorie_stats)\n",
    "print('Разница:', average_calories - 60)\n",
    "print('Среднее количество у конкурентов:', average_calories)"
   ]
  },
  {
   "cell_type": "markdown",
   "id": "b2ddb4cd",
   "metadata": {},
   "source": [
    "3. Корректно ли среднее количество калорий отражает распределение набора данных? Давайте отсортируем данные и посмотрим.\n",
    "\n",
    "Отсортируйте данные и сохраните результат в переменной calorie_stats_sorted. Распечатайте отсортированную информацию"
   ]
  },
  {
   "cell_type": "code",
   "execution_count": 14,
   "id": "46eeb4ed",
   "metadata": {},
   "outputs": [
    {
     "data": {
      "text/plain": [
       "array([ 50.,  50.,  50.,  70.,  70.,  80.,  90.,  90.,  90.,  90.,  90.,\n",
       "        90.,  90., 100., 100., 100., 100., 100., 100., 100., 100., 100.,\n",
       "       100., 100., 100., 100., 100., 100., 100., 100., 110., 110., 110.,\n",
       "       110., 110., 110., 110., 110., 110., 110., 110., 110., 110., 110.,\n",
       "       110., 110., 110., 110., 110., 110., 110., 110., 110., 110., 110.,\n",
       "       110., 110., 110., 110., 120., 120., 120., 120., 120., 120., 120.,\n",
       "       120., 120., 120., 130., 130., 140., 140., 140., 150., 150., 160.])"
      ]
     },
     "execution_count": 14,
     "metadata": {},
     "output_type": "execute_result"
    }
   ],
   "source": [
    "calorie_stats_sorted = np.sort(calorie_stats)\n",
    "calorie_stats_sorted"
   ]
  },
  {
   "cell_type": "markdown",
   "id": "4dc74116",
   "metadata": {},
   "source": [
    "4. Похоже, что большинство значений выше среднего. Давайте посмотрим, является ли медиана наиболее корректным показателем набора данных.\n",
    "\n",
    "Вычислите медиану набора данных и сохраните свой ответ в median_calories. Выведите медиану, чтобы вы могли видеть, как она сравнивается со средним значением."
   ]
  },
  {
   "cell_type": "code",
   "execution_count": 15,
   "id": "b56627c3",
   "metadata": {},
   "outputs": [
    {
     "data": {
      "text/plain": [
       "110.0"
      ]
     },
     "execution_count": 15,
     "metadata": {},
     "output_type": "execute_result"
    }
   ],
   "source": [
    "median_calories = np.median(calorie_stats)\n",
    "median_calories"
   ]
  },
  {
   "cell_type": "markdown",
   "id": "a63ab72f",
   "metadata": {},
   "source": [
    "5. В то время как медиана показывает, что по крайней мере половина наших значений составляет более 100 калорий, было бы более впечатляюще показать, что значительная часть конкурентов имеет более высокое количество калорий, чем CrunchieMunchies.\n",
    "\n",
    "Рассчитайте различные процентили и распечатайте их, пока не найдете наименьший процентиль, превышающий 60 калорий. Сохраните это значение в переменной nth_percentile."
   ]
  },
  {
   "cell_type": "code",
   "execution_count": 24,
   "id": "fe80ce03",
   "metadata": {},
   "outputs": [
    {
     "name": "stdout",
     "output_type": "stream",
     "text": [
      "1 процентиль: 50.00\n",
      "2 процентиль: 50.00\n",
      "3 процентиль: 55.60\n",
      "4 процентиль: 70.00\n",
      "Наименьший процентиль превышающий 60 каллорий 4 со значением 70.0\n"
     ]
    }
   ],
   "source": [
    "for percent in range(1, 101):\n",
    "    result = np.percentile(calorie_stats, percent)\n",
    "    print(f'{percent} процентиль: {result:.2f}')\n",
    "    if result > 60:\n",
    "        nth_percentile = result\n",
    "        percentile = percent\n",
    "        break\n",
    "print('Наименьший процентиль превышающий 60 каллорий', percentile, 'со значением',nth_percentile)"
   ]
  },
  {
   "cell_type": "markdown",
   "id": "a2a3c5aa",
   "metadata": {},
   "source": [
    "6. Хотя процентиль показывает нам, что у большинства конкурентов количество калорий намного выше, это неудобная концепция для использования в маркетинговых материалах.\n",
    "\n",
    "Вместо этого давайте подсчитаем процент хлопьев, в которых содержится более 60 калорий на порцию. Сохраните свой ответ в переменной more_calories и распечатайте его"
   ]
  },
  {
   "cell_type": "code",
   "execution_count": 28,
   "id": "ade0f6ea",
   "metadata": {},
   "outputs": [
    {
     "name": "stdout",
     "output_type": "stream",
     "text": [
      "Процент хлопьев в которых калорий больше 60: 96.10%\n"
     ]
    }
   ],
   "source": [
    "more_than_60 = calorie_stats > 60\n",
    "more_calories = np.mean(more_than_60) * 100\n",
    "print('Процент хлопьев в которых калорий больше 60:', f'{more_calories:.2f}%')"
   ]
  },
  {
   "cell_type": "markdown",
   "id": "1735d65b",
   "metadata": {},
   "source": [
    "7. Это действительно высокий процент. Это будет очень полезно, когда мы будем продвигать CrunchieMunchies. Но один вопрос заключается в том, насколько велики различия в наборе данных? Можем ли мы сделать обобщение, что в большинстве злаков содержится около 100 калорий или разброс еще больше?\n",
    "\n",
    "Рассчитайте величину отклонения, найдя стандартное отклонение, Сохраните свой ответ в calorie_std и распечатайте на терминале. Как мы можем включить эту ценность в наш анализ?"
   ]
  },
  {
   "cell_type": "code",
   "execution_count": 33,
   "id": "85c8df1f",
   "metadata": {},
   "outputs": [
    {
     "name": "stdout",
     "output_type": "stream",
     "text": [
      "Стандартное отклонение: 19.36 \n",
      "Это означает что значения разбросаны вокруг среднего значения с отклонением в 19.36\n"
     ]
    }
   ],
   "source": [
    "calorie_std = np.std(calorie_stats)\n",
    "print('Стандартное отклонение:',round(calorie_std, 2), f'\\nЭто означает что значения разбросаны вокруг среднего значения с отклонением в {round(calorie_std, 2)}')"
   ]
  },
  {
   "cell_type": "markdown",
   "id": "037455c5",
   "metadata": {},
   "source": [
    "8. Напишите короткий абзац, в котором кратко изложите свои выводы и то, как, по вашему мнению, эти данные могут быть использованы в интересах Mycrunch при маркетинге CrunchieMunchies."
   ]
  },
  {
   "cell_type": "code",
   "execution_count": 34,
   "id": "c260fee9",
   "metadata": {},
   "outputs": [
    {
     "name": "stdout",
     "output_type": "stream",
     "text": [
      "Мы можем использовать эти данные в первую очередь для позиционирования этого продукта(хлопьев) на рынке. \n",
      "Т.к. продукт имеет меньше каллорий чем у конкурентов, то можем спозиционировать его как более здоровый вариант.\n",
      "Эти данные также помогут нацелиться на определённые группы потребителей которые ищу такой продукт.\n",
      "Также можно использовать информацию о калрийности для создания рекламы.\n",
      "Понимание средних значений калорийности на рынке можно использовать для определения ниши дальнейшего развития\n"
     ]
    }
   ],
   "source": [
    "print('Мы можем использовать эти данные в первую очередь для позиционирования этого продукта(хлопьев) на рынке. \\nТ.к. продукт имеет меньше каллорий чем у конкурентов, то можем спозиционировать его как более здоровый вариант.\\nЭти данные также помогут нацелиться на определённые группы потребителей которые ищу такой продукт.\\nТакже можно использовать информацию о калрийности для создания рекламы.\\nПонимание средних значений калорийности на рынке можно использовать для определения ниши дальнейшего развития')"
   ]
  }
 ],
 "metadata": {
  "kernelspec": {
   "display_name": "Python 3 (ipykernel)",
   "language": "python",
   "name": "python3"
  },
  "language_info": {
   "codemirror_mode": {
    "name": "ipython",
    "version": 3
   },
   "file_extension": ".py",
   "mimetype": "text/x-python",
   "name": "python",
   "nbconvert_exporter": "python",
   "pygments_lexer": "ipython3",
   "version": "3.8.10"
  }
 },
 "nbformat": 4,
 "nbformat_minor": 5
}
